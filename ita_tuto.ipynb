{
 "cells": [
  {
   "cell_type": "markdown",
   "metadata": {
    "collapsed": true,
    "pycharm": {
     "name": "#%% md\n"
    }
   },
   "source": [
    "# 1 Introduzione\n",
    "\n",
    "Questa è una guida, ad uso personale, che ho scritto per allenarmi nell'utilizzo di alcune\n",
    "funzionalità di Python.  Il dataset che verrà utilizzato riguarda i punteggi\n",
    " dei giocatori di scacchi registrati al FIDE dal 2000 al 2021, disponibili su https://ratings.fide.com/download.phtml.\n",
    "\n",
    "Ho scelto questo dataset un po' per curiosità e un po' perché permette di applicare delle statistiche interessanti.\n",
    "Si tratta infatti di un dataset abbastanza grande da costringerci ad ottimizzare le operazioni, ma\n",
    " non troppo da non farci perdere troppo tempo.\n",
    "\n",
    "Il file load_data.py contiene le istruzioni necessarie per scaricare il dataset direttamente dal sito della FIDE.\n",
    "Già qui abbiamo un problema, perché si tratta di una serie di file .txt formattati in modo diverso\n",
    "a seconda della data di redazione.\n",
    "\n",
    "Comunque alla fine otteniamo due dataset, uno contenente le statistiche mese per mese (inizialmente\n",
    "solo alcuni mesi sono considerati, più recentemente abbiamo statistiche per ogni mese) e uno contenente\n",
    "la lista di tutti i giocatori iscritti al FIDE. I giocatori sono identificati dal numero ID, presente\n",
    "in entrambi i dataset.\n",
    "\n",
    "Qui inizia questo notebook, che ripeto, ha sopratutto lo scopo di servire da cheatsheet.\n",
    "Se invece siete interessati unicamente alle statistiche sugli scacchi, presentate in modo più organico,\n",
    "consultate il file '''statistics.ipynb'''\n",
    "\n",
    "Iniziamo ** col **"
   ]
  },
  {
   "cell_type": "code",
   "execution_count": null,
   "outputs": [],
   "source": [],
   "metadata": {
    "collapsed": false,
    "pycharm": {
     "name": "#%%\n"
    }
   }
  }
 ],
 "metadata": {
  "kernelspec": {
   "display_name": "Python 3",
   "language": "python",
   "name": "python3"
  },
  "language_info": {
   "codemirror_mode": {
    "name": "ipython",
    "version": 2
   },
   "file_extension": ".py",
   "mimetype": "text/x-python",
   "name": "python",
   "nbconvert_exporter": "python",
   "pygments_lexer": "ipython2",
   "version": "2.7.6"
  }
 },
 "nbformat": 4,
 "nbformat_minor": 0
}