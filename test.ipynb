{
 "cells": [
  {
   "cell_type": "code",
   "execution_count": 12,
   "metadata": {
    "collapsed": true
   },
   "outputs": [
    {
     "data": {
      "text/plain": "              id                  name     elo title       date\n0        1701991         Aaberg, Anton  2300.0   NaN 2001-01-01\n1        1401815        Aagaard, Jacob  2374.0    im 2001-01-01\n2        1500503  Aarland, Stein Arild  2275.0   NaN 2001-01-01\n3        5000092         Aaron, Manuel  2315.0    im 2001-01-01\n4        5004373    Aarthie, Ramaswamy  2250.0   wim 2001-01-01\n...          ...                   ...     ...   ...        ...\n2675831  4646983    Zwirner, Gottfried  2237.0   NaN 2021-03-01\n2675832  1036432           Zwirs, Nico  2442.0    im 2021-03-01\n2675833  1189654      Zylka, Stanislaw  2384.0    fm 2021-03-01\n2675834  4600410          Zysk, Robert  2391.0    im 2021-03-01\n2675835  4126076          Zytner, Yury  2261.0   NaN 2021-03-01\n\n[2675836 rows x 5 columns]",
      "text/html": "<div>\n<style scoped>\n    .dataframe tbody tr th:only-of-type {\n        vertical-align: middle;\n    }\n\n    .dataframe tbody tr th {\n        vertical-align: top;\n    }\n\n    .dataframe thead th {\n        text-align: right;\n    }\n</style>\n<table border=\"1\" class=\"dataframe\">\n  <thead>\n    <tr style=\"text-align: right;\">\n      <th></th>\n      <th>id</th>\n      <th>name</th>\n      <th>elo</th>\n      <th>title</th>\n      <th>date</th>\n    </tr>\n  </thead>\n  <tbody>\n    <tr>\n      <th>0</th>\n      <td>1701991</td>\n      <td>Aaberg, Anton</td>\n      <td>2300.0</td>\n      <td>NaN</td>\n      <td>2001-01-01</td>\n    </tr>\n    <tr>\n      <th>1</th>\n      <td>1401815</td>\n      <td>Aagaard, Jacob</td>\n      <td>2374.0</td>\n      <td>im</td>\n      <td>2001-01-01</td>\n    </tr>\n    <tr>\n      <th>2</th>\n      <td>1500503</td>\n      <td>Aarland, Stein Arild</td>\n      <td>2275.0</td>\n      <td>NaN</td>\n      <td>2001-01-01</td>\n    </tr>\n    <tr>\n      <th>3</th>\n      <td>5000092</td>\n      <td>Aaron, Manuel</td>\n      <td>2315.0</td>\n      <td>im</td>\n      <td>2001-01-01</td>\n    </tr>\n    <tr>\n      <th>4</th>\n      <td>5004373</td>\n      <td>Aarthie, Ramaswamy</td>\n      <td>2250.0</td>\n      <td>wim</td>\n      <td>2001-01-01</td>\n    </tr>\n    <tr>\n      <th>...</th>\n      <td>...</td>\n      <td>...</td>\n      <td>...</td>\n      <td>...</td>\n      <td>...</td>\n    </tr>\n    <tr>\n      <th>2675831</th>\n      <td>4646983</td>\n      <td>Zwirner, Gottfried</td>\n      <td>2237.0</td>\n      <td>NaN</td>\n      <td>2021-03-01</td>\n    </tr>\n    <tr>\n      <th>2675832</th>\n      <td>1036432</td>\n      <td>Zwirs, Nico</td>\n      <td>2442.0</td>\n      <td>im</td>\n      <td>2021-03-01</td>\n    </tr>\n    <tr>\n      <th>2675833</th>\n      <td>1189654</td>\n      <td>Zylka, Stanislaw</td>\n      <td>2384.0</td>\n      <td>fm</td>\n      <td>2021-03-01</td>\n    </tr>\n    <tr>\n      <th>2675834</th>\n      <td>4600410</td>\n      <td>Zysk, Robert</td>\n      <td>2391.0</td>\n      <td>im</td>\n      <td>2021-03-01</td>\n    </tr>\n    <tr>\n      <th>2675835</th>\n      <td>4126076</td>\n      <td>Zytner, Yury</td>\n      <td>2261.0</td>\n      <td>NaN</td>\n      <td>2021-03-01</td>\n    </tr>\n  </tbody>\n</table>\n<p>2675836 rows × 5 columns</p>\n</div>"
     },
     "execution_count": 12,
     "metadata": {},
     "output_type": "execute_result"
    }
   ],
   "source": [
    "# thanks to  https://realpython.com/pandas-groupby/\n",
    "import pandas as pd\n",
    "import load_data\n",
    "import seaborn as sns\n",
    "import matplotlib.pyplot as plt\n",
    "rank = load_data.load_ranking()\n",
    "players = load_data.load_players()\n",
    "rank"
   ]
  },
  {
   "cell_type": "markdown",
   "source": [
    "We loaded some data about FIDE chess players statistics in the period 2000-2021 using the text\n",
    "dataset avaibles in FIDE website.\n",
    "We perform some statistic on it, trying to learn something at the sime time.\n",
    "So, let's start!\n",
    "For example, how many players are there for each country?"
   ],
   "metadata": {
    "collapsed": false,
    "pycharm": {
     "name": "#%% md\n"
    }
   }
  },
  {
   "cell_type": "code",
   "execution_count": 24,
   "outputs": [
    {
     "data": {
      "text/plain": "Text(0.5, 1.0, 'FIDE players with ELO>2200')"
     },
     "execution_count": 24,
     "metadata": {},
     "output_type": "execute_result"
    },
    {
     "data": {
      "text/plain": "<Figure size 432x288 with 1 Axes>",
      "image/png": "[encoded data removed]"
     },
     "metadata": {
      "needs_background": "light"
     },
     "output_type": "display_data"
    }
   ],
   "source": [
    "country_numb = players[\"country\"].value_counts()\n",
    "top_20 = country_numb.head(20)\n",
    "plt.bar(top_20.index, top_20)\n",
    "plt.xticks(rotation=60)\n",
    "plt.title(\"FIDE chess players by country\")#vertical x labels for better reading"
   ],
   "metadata": {
    "collapsed": false,
    "pycharm": {
     "name": "#%%\n"
    }
   }
  },
  {
   "cell_type": "markdown",
   "source": [
    "Uhm, maybe we do not need to look to all register players, but just pretty strong players.\n",
    "We can perform it filtering by ELO score (ELO is a method for calculating the relative\n",
    "skill levels of players in zero-sum games such as chess.).\n",
    "So we need to melt our data with monthly rank data.\n",
    "We do not have data for all months so, firstly we will do a year mean"
   ],
   "metadata": {
    "collapsed": false,
    "pycharm": {
     "name": "#%% md\n"
    }
   }
  },
  {
   "cell_type": "code",
   "execution_count": 27,
   "outputs": [
    {
     "data": {
      "text/plain": "{(2001, 100013): [2212, 20032, 38157], (2001, 100021): [12196, 30389, 48541], (2001, 100030): [13191], (2001, 100048): [966], (2001, 100072): [106, 17827, 35931], (2001, 100080): [1449, 19227, 37345], (2001, 100099): [4766, 22691, 40815], (2001, 100102): [2580, 20406, 38536], (2001, 100110): [13155, 31373, 49529], (2001, 100129): [4948, 22880, 41005], (2001, 100137): [16997, 35361, 53523], (2001, 100153): [11257, 29424, 47568], (2001, 100161): [12885, 31099, 49252], (2001, 100170): [12888], (2001, 100188): [13754, 31988, 50145], (2001, 100196): [14383, 32647, 50816], (2001, 100200): [4137, 22040, 40169], (2001, 100218): [1683, 19473, 37597], (2001, 100226): [3771, 21659, 39784], (2001, 100234): [4837, 22767, 40891], (2001, 100242): [12546, 30755, 48905], (2001, 100250): [14219, 32469, 50636], (2001, 100269): [15167, 33455, 51627], (2001, 100277): [5244, 23198, 41337], (2001, 100285): [3696, 31871, 50028], (2001, 100307): [11172, 29329, 47479], (2001, 100315): [11824, 30006, 48155], (2001, 100323): [14371, 32633, 50802], (2001, 100331): [1969, 19778, 37904], (2001, 100340): [5895, 23880, 42011], (2001, 100358): [8797, 26863, 45014], (2001, 100366): [15008, 33284, 51456], (2001, 100374): [1367, 19144, 37262], (2001, 100382): [16133, 34448, 52622], (2001, 100390): [2791, 20625, 38754], (2001, 100404): [2925, 20760, 38888], (2001, 100412): [4505, 22425, 40547], (2001, 100420): [4558, 22479, 40601], (2001, 100439): [9100, 27169, 45324], (2001, 100447): [9358, 27438, 45592], (2001, 100455): [887, 18642, 36764], (2001, 100463): [1973, 19783, 37909], (2001, 100480): [4280, 22190, 40316], (2001, 100501): [13591, 31825, 49979], (2001, 100510): [3010, 20851, 38978], (2001, 100528): [3174, 21027, 39153], (2001, 100536): [400, 18131, 36238], (2001, 100544): [5173, 23127, 41262], (2001, 100552): [12691, 30900, 49051], (2001, 100560): [16022, 34339, 52514], (2001, 100579): [13584, 31816, 49969], (2001, 100587): [15846, 34155, 52328], (2001, 100595): [3047, 20892, 39020], (2001, 100609): [3533, 21407, 39536], (2001, 100617): [8561, 26624, 44775], (2001, 100625): [10159, 28269, 46429], (2001, 100633): [13067, 31287, 49441], (2001, 100641): [2298, 20115, 38244], (2001, 100650): [5300], (2001, 100668): [8757, 26820, 44970], (2001, 100676): [12641, 30848, 48998], (2001, 100684): [1462, 19240, 37358], (2001, 100692): [2847, 20680, 38810], (2001, 100706): [4278, 22187, 40313], (2001, 100714): [4375, 22285, 40410], (2001, 100722): [5584, 23558, 41690], (2001, 100730): [10553, 28684, 46839], (2001, 100749): [11275], (2001, 100757): [2246, 20066, 38194], (2001, 100765): [6900, 24903, 43050], (2001, 100773): [9037, 27106, 45261], (2001, 100781): [15497, 33797, 51970], (2001, 100790): [1192, 18958, 37077], (2001, 100803): [9586, 27676, 45833], (2001, 100820): [5236, 23190, 41329], (2001, 100838): [5770, 23748, 41882], (2001, 100846): [10560, 28691, 46846], (2001, 100854): [1388, 19168, 37286], (2001, 100862): [12508, 30712, 48861], (2001, 100870): [12680, 30888, 49039], (2001, 100889): [14849, 33119, 51292], (2001, 100897): [1068, 18830, 36949], (2001, 100900): [1446, 19225, 37343], (2001, 100919): [3848, 21740, 39865], (2001, 100927): [9719, 27812, 45972], (2001, 100935): [12829, 31043, 49196], (2001, 100943): [15556, 33857, 52030], (2001, 100951): [15961, 34275, 52452], (2001, 100960): [348, 18077, 36183], (2001, 100978): [9173, 27243, 45396], (2001, 100986): [10899, 29047, 47198], (2001, 100994): [12822, 31035, 49189], (2001, 101001): [13147, 31365, 49521], (2001, 101010): [13166, 31384, 49539], (2001, 101028): [15009, 33285, 51457], (2001, 101036): [6, 17721, 35828], (2001, 101044): [151, 17875, 35981], (2001, 101052): [2723, 20554, 38685], (2001, 101060): [2742, 20574, 38705], (2001, 101079): [3741, 21628, 39753], ...}"
     },
     "execution_count": 27,
     "metadata": {},
     "output_type": "execute_result"
    }
   ],
   "source": [
    "year_group = rank.groupby(by=[rank[\"date\"].dt.year, rank[\"id\"]])\n",
    "year_group.groups"
   ],
   "metadata": {
    "collapsed": false,
    "pycharm": {
     "name": "#%%\n"
    }
   }
  },
  {
   "cell_type": "code",
   "execution_count": null,
   "outputs": [],
   "source": [],
   "metadata": {
    "collapsed": false,
    "pycharm": {
     "name": "#%%\n"
    }
   }
  },
  {
   "cell_type": "code",
   "execution_count": null,
   "outputs": [],
   "source": [],
   "metadata": {
    "collapsed": false,
    "pycharm": {
     "name": "#%%\n"
    }
   }
  },
  {
   "cell_type": "code",
   "execution_count": null,
   "outputs": [],
   "source": [],
   "metadata": {
    "collapsed": false,
    "pycharm": {
     "name": "#%%\n"
    }
   }
  },
  {
   "cell_type": "code",
   "execution_count": null,
   "outputs": [],
   "source": [],
   "metadata": {
    "collapsed": false,
    "pycharm": {
     "name": "#%%\n"
    }
   }
  },
  {
   "cell_type": "code",
   "execution_count": null,
   "outputs": [],
   "source": [],
   "metadata": {
    "collapsed": false,
    "pycharm": {
     "name": "#%%\n"
    }
   }
  },
  {
   "cell_type": "code",
   "execution_count": 24,
   "outputs": [],
   "source": [],
   "metadata": {
    "collapsed": false,
    "pycharm": {
     "name": "#%%\n"
    }
   }
  },
  {
   "cell_type": "markdown",
   "source": [
    "\n",
    "\n",
    "\n",
    "print(players)\n",
    "del(rank[\"name\"]) #we already have the name\n",
    "#process_players()\n",
    "#collect_data(download=False)\n",
    "\n",
    "\n",
    "print(players[\"country\"].value_counts())\n",
    "joined = pd.merge(players, rank, how='inner', on='id')\n",
    "#joined = joined[joined[\"birth_year\"]!=0]\n",
    "#print(joined.head())\n",
    "print(joined)\n"
   ],
   "metadata": {
    "collapsed": false,
    "pycharm": {
     "name": "#%% md\n"
    }
   }
  }
 ],
 "metadata": {
  "kernelspec": {
   "display_name": "Python 3",
   "language": "python",
   "name": "python3"
  },
  "language_info": {
   "codemirror_mode": {
    "name": "ipython",
    "version": 2
   },
   "file_extension": ".py",
   "mimetype": "text/x-python",
   "name": "python",
   "nbconvert_exporter": "python",
   "pygments_lexer": "ipython2",
   "version": "2.7.6"
  }
 },
 "nbformat": 4,
 "nbformat_minor": 0
}